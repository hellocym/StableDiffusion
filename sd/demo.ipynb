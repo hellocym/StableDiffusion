{
 "cells": [
  {
   "cell_type": "code",
   "execution_count": 1,
   "metadata": {},
   "outputs": [
    {
     "name": "stderr",
     "output_type": "stream",
     "text": [
      "/var/folders/n2/3051ffsn14v1vp9h7j67ql2w0000gn/T/ipykernel_10885/3246853142.py:14: UserWarning: 'has_mps' is deprecated, please use 'torch.backends.mps.is_built()'\n",
      "  elif (torch.has_mps or torch.backends.mps.is_available()) and ALLOW_MPS:\n"
     ]
    },
    {
     "name": "stdout",
     "output_type": "stream",
     "text": [
      "Using device: mps\n"
     ]
    },
    {
     "ename": "RuntimeError",
     "evalue": "Error(s) in loading state_dict for Diffusion:\n\tsize mismatch for unet.encoders.1.1.linear_geglu_1.weight: copying a param with shape torch.Size([2560, 320]) from checkpoint, the shape in current model is torch.Size([1280, 320]).\n\tsize mismatch for unet.encoders.1.1.linear_geglu_1.bias: copying a param with shape torch.Size([2560]) from checkpoint, the shape in current model is torch.Size([1280]).\n\tsize mismatch for unet.encoders.2.1.linear_geglu_1.weight: copying a param with shape torch.Size([2560, 320]) from checkpoint, the shape in current model is torch.Size([1280, 320]).\n\tsize mismatch for unet.encoders.2.1.linear_geglu_1.bias: copying a param with shape torch.Size([2560]) from checkpoint, the shape in current model is torch.Size([1280]).\n\tsize mismatch for unet.encoders.4.1.linear_geglu_1.weight: copying a param with shape torch.Size([5120, 640]) from checkpoint, the shape in current model is torch.Size([2560, 640]).\n\tsize mismatch for unet.encoders.4.1.linear_geglu_1.bias: copying a param with shape torch.Size([5120]) from checkpoint, the shape in current model is torch.Size([2560]).\n\tsize mismatch for unet.encoders.5.1.linear_geglu_1.weight: copying a param with shape torch.Size([5120, 640]) from checkpoint, the shape in current model is torch.Size([2560, 640]).\n\tsize mismatch for unet.encoders.5.1.linear_geglu_1.bias: copying a param with shape torch.Size([5120]) from checkpoint, the shape in current model is torch.Size([2560]).\n\tsize mismatch for unet.encoders.7.1.linear_geglu_1.weight: copying a param with shape torch.Size([10240, 1280]) from checkpoint, the shape in current model is torch.Size([5120, 1280]).\n\tsize mismatch for unet.encoders.7.1.linear_geglu_1.bias: copying a param with shape torch.Size([10240]) from checkpoint, the shape in current model is torch.Size([5120]).\n\tsize mismatch for unet.encoders.8.1.linear_geglu_1.weight: copying a param with shape torch.Size([10240, 1280]) from checkpoint, the shape in current model is torch.Size([5120, 1280]).\n\tsize mismatch for unet.encoders.8.1.linear_geglu_1.bias: copying a param with shape torch.Size([10240]) from checkpoint, the shape in current model is torch.Size([5120]).\n\tsize mismatch for unet.bottleneck.1.linear_geglu_1.weight: copying a param with shape torch.Size([10240, 1280]) from checkpoint, the shape in current model is torch.Size([5120, 1280]).\n\tsize mismatch for unet.bottleneck.1.linear_geglu_1.bias: copying a param with shape torch.Size([10240]) from checkpoint, the shape in current model is torch.Size([5120]).\n\tsize mismatch for unet.decoders.3.1.linear_geglu_1.weight: copying a param with shape torch.Size([10240, 1280]) from checkpoint, the shape in current model is torch.Size([5120, 1280]).\n\tsize mismatch for unet.decoders.3.1.linear_geglu_1.bias: copying a param with shape torch.Size([10240]) from checkpoint, the shape in current model is torch.Size([5120]).\n\tsize mismatch for unet.decoders.4.1.linear_geglu_1.weight: copying a param with shape torch.Size([10240, 1280]) from checkpoint, the shape in current model is torch.Size([5120, 1280]).\n\tsize mismatch for unet.decoders.4.1.linear_geglu_1.bias: copying a param with shape torch.Size([10240]) from checkpoint, the shape in current model is torch.Size([5120]).\n\tsize mismatch for unet.decoders.5.1.linear_geglu_1.weight: copying a param with shape torch.Size([10240, 1280]) from checkpoint, the shape in current model is torch.Size([5120, 1280]).\n\tsize mismatch for unet.decoders.5.1.linear_geglu_1.bias: copying a param with shape torch.Size([10240]) from checkpoint, the shape in current model is torch.Size([5120]).\n\tsize mismatch for unet.decoders.6.1.linear_geglu_1.weight: copying a param with shape torch.Size([5120, 640]) from checkpoint, the shape in current model is torch.Size([2560, 640]).\n\tsize mismatch for unet.decoders.6.1.linear_geglu_1.bias: copying a param with shape torch.Size([5120]) from checkpoint, the shape in current model is torch.Size([2560]).\n\tsize mismatch for unet.decoders.7.1.linear_geglu_1.weight: copying a param with shape torch.Size([5120, 640]) from checkpoint, the shape in current model is torch.Size([2560, 640]).\n\tsize mismatch for unet.decoders.7.1.linear_geglu_1.bias: copying a param with shape torch.Size([5120]) from checkpoint, the shape in current model is torch.Size([2560]).\n\tsize mismatch for unet.decoders.8.1.linear_geglu_1.weight: copying a param with shape torch.Size([5120, 640]) from checkpoint, the shape in current model is torch.Size([2560, 640]).\n\tsize mismatch for unet.decoders.8.1.linear_geglu_1.bias: copying a param with shape torch.Size([5120]) from checkpoint, the shape in current model is torch.Size([2560]).\n\tsize mismatch for unet.decoders.9.1.linear_geglu_1.weight: copying a param with shape torch.Size([2560, 320]) from checkpoint, the shape in current model is torch.Size([1280, 320]).\n\tsize mismatch for unet.decoders.9.1.linear_geglu_1.bias: copying a param with shape torch.Size([2560]) from checkpoint, the shape in current model is torch.Size([1280]).\n\tsize mismatch for unet.decoders.10.1.linear_geglu_1.weight: copying a param with shape torch.Size([2560, 320]) from checkpoint, the shape in current model is torch.Size([1280, 320]).\n\tsize mismatch for unet.decoders.10.1.linear_geglu_1.bias: copying a param with shape torch.Size([2560]) from checkpoint, the shape in current model is torch.Size([1280]).\n\tsize mismatch for unet.decoders.11.1.linear_geglu_1.weight: copying a param with shape torch.Size([2560, 320]) from checkpoint, the shape in current model is torch.Size([1280, 320]).\n\tsize mismatch for unet.decoders.11.1.linear_geglu_1.bias: copying a param with shape torch.Size([2560]) from checkpoint, the shape in current model is torch.Size([1280]).",
     "output_type": "error",
     "traceback": [
      "\u001b[0;31m---------------------------------------------------------------------------\u001b[0m",
      "\u001b[0;31mRuntimeError\u001b[0m                              Traceback (most recent call last)",
      "Cell \u001b[0;32mIn[1], line 20\u001b[0m\n\u001b[1;32m     18\u001b[0m tokenizer \u001b[38;5;241m=\u001b[39m CLIPTokenizer(\u001b[38;5;124m\"\u001b[39m\u001b[38;5;124m../data/tokenizer_vocab.json\u001b[39m\u001b[38;5;124m\"\u001b[39m, merges_file\u001b[38;5;241m=\u001b[39m\u001b[38;5;124m\"\u001b[39m\u001b[38;5;124m../data/tokenizer_merges.txt\u001b[39m\u001b[38;5;124m\"\u001b[39m)\n\u001b[1;32m     19\u001b[0m model_file \u001b[38;5;241m=\u001b[39m \u001b[38;5;124m\"\u001b[39m\u001b[38;5;124m../data/v1-5-pruned-emaonly.ckpt\u001b[39m\u001b[38;5;124m\"\u001b[39m\n\u001b[0;32m---> 20\u001b[0m models \u001b[38;5;241m=\u001b[39m \u001b[43mmodel_loader\u001b[49m\u001b[38;5;241;43m.\u001b[39;49m\u001b[43mpreload_models_from_standard_weights\u001b[49m\u001b[43m(\u001b[49m\u001b[43mmodel_file\u001b[49m\u001b[43m,\u001b[49m\u001b[43m \u001b[49m\u001b[43mDEVICE\u001b[49m\u001b[43m)\u001b[49m\n",
      "File \u001b[0;32m~/Projects/StableDiffusion/sd/model_loader.py:18\u001b[0m, in \u001b[0;36mpreload_models_from_standard_weights\u001b[0;34m(ckpt_path, device)\u001b[0m\n\u001b[1;32m     15\u001b[0m decoder\u001b[38;5;241m.\u001b[39mload_state_dict(state_dict[\u001b[38;5;124m'\u001b[39m\u001b[38;5;124mdecoder\u001b[39m\u001b[38;5;124m'\u001b[39m], strict\u001b[38;5;241m=\u001b[39m\u001b[38;5;28;01mTrue\u001b[39;00m)\n\u001b[1;32m     17\u001b[0m diffusion \u001b[38;5;241m=\u001b[39m Diffusion()\u001b[38;5;241m.\u001b[39mto(device)\n\u001b[0;32m---> 18\u001b[0m \u001b[43mdiffusion\u001b[49m\u001b[38;5;241;43m.\u001b[39;49m\u001b[43mload_state_dict\u001b[49m\u001b[43m(\u001b[49m\u001b[43mstate_dict\u001b[49m\u001b[43m[\u001b[49m\u001b[38;5;124;43m'\u001b[39;49m\u001b[38;5;124;43mdiffusion\u001b[39;49m\u001b[38;5;124;43m'\u001b[39;49m\u001b[43m]\u001b[49m\u001b[43m,\u001b[49m\u001b[43m \u001b[49m\u001b[43mstrict\u001b[49m\u001b[38;5;241;43m=\u001b[39;49m\u001b[38;5;28;43;01mTrue\u001b[39;49;00m\u001b[43m)\u001b[49m\n\u001b[1;32m     20\u001b[0m clip \u001b[38;5;241m=\u001b[39m CLIP()\u001b[38;5;241m.\u001b[39mto(device)\n\u001b[1;32m     21\u001b[0m clip\u001b[38;5;241m.\u001b[39mload_state_dict(state_dict[\u001b[38;5;124m'\u001b[39m\u001b[38;5;124mclip\u001b[39m\u001b[38;5;124m'\u001b[39m], strict\u001b[38;5;241m=\u001b[39m\u001b[38;5;28;01mTrue\u001b[39;00m)\n",
      "File \u001b[0;32m/opt/miniconda3/lib/python3.12/site-packages/torch/nn/modules/module.py:2588\u001b[0m, in \u001b[0;36mModule.load_state_dict\u001b[0;34m(self, state_dict, strict, assign)\u001b[0m\n\u001b[1;32m   2580\u001b[0m         error_msgs\u001b[38;5;241m.\u001b[39minsert(\n\u001b[1;32m   2581\u001b[0m             \u001b[38;5;241m0\u001b[39m,\n\u001b[1;32m   2582\u001b[0m             \u001b[38;5;124m\"\u001b[39m\u001b[38;5;124mMissing key(s) in state_dict: \u001b[39m\u001b[38;5;132;01m{}\u001b[39;00m\u001b[38;5;124m. \u001b[39m\u001b[38;5;124m\"\u001b[39m\u001b[38;5;241m.\u001b[39mformat(\n\u001b[1;32m   2583\u001b[0m                 \u001b[38;5;124m\"\u001b[39m\u001b[38;5;124m, \u001b[39m\u001b[38;5;124m\"\u001b[39m\u001b[38;5;241m.\u001b[39mjoin(\u001b[38;5;124mf\u001b[39m\u001b[38;5;124m'\u001b[39m\u001b[38;5;124m\"\u001b[39m\u001b[38;5;132;01m{\u001b[39;00mk\u001b[38;5;132;01m}\u001b[39;00m\u001b[38;5;124m\"\u001b[39m\u001b[38;5;124m'\u001b[39m \u001b[38;5;28;01mfor\u001b[39;00m k \u001b[38;5;129;01min\u001b[39;00m missing_keys)\n\u001b[1;32m   2584\u001b[0m             ),\n\u001b[1;32m   2585\u001b[0m         )\n\u001b[1;32m   2587\u001b[0m \u001b[38;5;28;01mif\u001b[39;00m \u001b[38;5;28mlen\u001b[39m(error_msgs) \u001b[38;5;241m>\u001b[39m \u001b[38;5;241m0\u001b[39m:\n\u001b[0;32m-> 2588\u001b[0m     \u001b[38;5;28;01mraise\u001b[39;00m \u001b[38;5;167;01mRuntimeError\u001b[39;00m(\n\u001b[1;32m   2589\u001b[0m         \u001b[38;5;124m\"\u001b[39m\u001b[38;5;124mError(s) in loading state_dict for \u001b[39m\u001b[38;5;132;01m{}\u001b[39;00m\u001b[38;5;124m:\u001b[39m\u001b[38;5;130;01m\\n\u001b[39;00m\u001b[38;5;130;01m\\t\u001b[39;00m\u001b[38;5;132;01m{}\u001b[39;00m\u001b[38;5;124m\"\u001b[39m\u001b[38;5;241m.\u001b[39mformat(\n\u001b[1;32m   2590\u001b[0m             \u001b[38;5;28mself\u001b[39m\u001b[38;5;241m.\u001b[39m\u001b[38;5;18m__class__\u001b[39m\u001b[38;5;241m.\u001b[39m\u001b[38;5;18m__name__\u001b[39m, \u001b[38;5;124m\"\u001b[39m\u001b[38;5;130;01m\\n\u001b[39;00m\u001b[38;5;130;01m\\t\u001b[39;00m\u001b[38;5;124m\"\u001b[39m\u001b[38;5;241m.\u001b[39mjoin(error_msgs)\n\u001b[1;32m   2591\u001b[0m         )\n\u001b[1;32m   2592\u001b[0m     )\n\u001b[1;32m   2593\u001b[0m \u001b[38;5;28;01mreturn\u001b[39;00m _IncompatibleKeys(missing_keys, unexpected_keys)\n",
      "\u001b[0;31mRuntimeError\u001b[0m: Error(s) in loading state_dict for Diffusion:\n\tsize mismatch for unet.encoders.1.1.linear_geglu_1.weight: copying a param with shape torch.Size([2560, 320]) from checkpoint, the shape in current model is torch.Size([1280, 320]).\n\tsize mismatch for unet.encoders.1.1.linear_geglu_1.bias: copying a param with shape torch.Size([2560]) from checkpoint, the shape in current model is torch.Size([1280]).\n\tsize mismatch for unet.encoders.2.1.linear_geglu_1.weight: copying a param with shape torch.Size([2560, 320]) from checkpoint, the shape in current model is torch.Size([1280, 320]).\n\tsize mismatch for unet.encoders.2.1.linear_geglu_1.bias: copying a param with shape torch.Size([2560]) from checkpoint, the shape in current model is torch.Size([1280]).\n\tsize mismatch for unet.encoders.4.1.linear_geglu_1.weight: copying a param with shape torch.Size([5120, 640]) from checkpoint, the shape in current model is torch.Size([2560, 640]).\n\tsize mismatch for unet.encoders.4.1.linear_geglu_1.bias: copying a param with shape torch.Size([5120]) from checkpoint, the shape in current model is torch.Size([2560]).\n\tsize mismatch for unet.encoders.5.1.linear_geglu_1.weight: copying a param with shape torch.Size([5120, 640]) from checkpoint, the shape in current model is torch.Size([2560, 640]).\n\tsize mismatch for unet.encoders.5.1.linear_geglu_1.bias: copying a param with shape torch.Size([5120]) from checkpoint, the shape in current model is torch.Size([2560]).\n\tsize mismatch for unet.encoders.7.1.linear_geglu_1.weight: copying a param with shape torch.Size([10240, 1280]) from checkpoint, the shape in current model is torch.Size([5120, 1280]).\n\tsize mismatch for unet.encoders.7.1.linear_geglu_1.bias: copying a param with shape torch.Size([10240]) from checkpoint, the shape in current model is torch.Size([5120]).\n\tsize mismatch for unet.encoders.8.1.linear_geglu_1.weight: copying a param with shape torch.Size([10240, 1280]) from checkpoint, the shape in current model is torch.Size([5120, 1280]).\n\tsize mismatch for unet.encoders.8.1.linear_geglu_1.bias: copying a param with shape torch.Size([10240]) from checkpoint, the shape in current model is torch.Size([5120]).\n\tsize mismatch for unet.bottleneck.1.linear_geglu_1.weight: copying a param with shape torch.Size([10240, 1280]) from checkpoint, the shape in current model is torch.Size([5120, 1280]).\n\tsize mismatch for unet.bottleneck.1.linear_geglu_1.bias: copying a param with shape torch.Size([10240]) from checkpoint, the shape in current model is torch.Size([5120]).\n\tsize mismatch for unet.decoders.3.1.linear_geglu_1.weight: copying a param with shape torch.Size([10240, 1280]) from checkpoint, the shape in current model is torch.Size([5120, 1280]).\n\tsize mismatch for unet.decoders.3.1.linear_geglu_1.bias: copying a param with shape torch.Size([10240]) from checkpoint, the shape in current model is torch.Size([5120]).\n\tsize mismatch for unet.decoders.4.1.linear_geglu_1.weight: copying a param with shape torch.Size([10240, 1280]) from checkpoint, the shape in current model is torch.Size([5120, 1280]).\n\tsize mismatch for unet.decoders.4.1.linear_geglu_1.bias: copying a param with shape torch.Size([10240]) from checkpoint, the shape in current model is torch.Size([5120]).\n\tsize mismatch for unet.decoders.5.1.linear_geglu_1.weight: copying a param with shape torch.Size([10240, 1280]) from checkpoint, the shape in current model is torch.Size([5120, 1280]).\n\tsize mismatch for unet.decoders.5.1.linear_geglu_1.bias: copying a param with shape torch.Size([10240]) from checkpoint, the shape in current model is torch.Size([5120]).\n\tsize mismatch for unet.decoders.6.1.linear_geglu_1.weight: copying a param with shape torch.Size([5120, 640]) from checkpoint, the shape in current model is torch.Size([2560, 640]).\n\tsize mismatch for unet.decoders.6.1.linear_geglu_1.bias: copying a param with shape torch.Size([5120]) from checkpoint, the shape in current model is torch.Size([2560]).\n\tsize mismatch for unet.decoders.7.1.linear_geglu_1.weight: copying a param with shape torch.Size([5120, 640]) from checkpoint, the shape in current model is torch.Size([2560, 640]).\n\tsize mismatch for unet.decoders.7.1.linear_geglu_1.bias: copying a param with shape torch.Size([5120]) from checkpoint, the shape in current model is torch.Size([2560]).\n\tsize mismatch for unet.decoders.8.1.linear_geglu_1.weight: copying a param with shape torch.Size([5120, 640]) from checkpoint, the shape in current model is torch.Size([2560, 640]).\n\tsize mismatch for unet.decoders.8.1.linear_geglu_1.bias: copying a param with shape torch.Size([5120]) from checkpoint, the shape in current model is torch.Size([2560]).\n\tsize mismatch for unet.decoders.9.1.linear_geglu_1.weight: copying a param with shape torch.Size([2560, 320]) from checkpoint, the shape in current model is torch.Size([1280, 320]).\n\tsize mismatch for unet.decoders.9.1.linear_geglu_1.bias: copying a param with shape torch.Size([2560]) from checkpoint, the shape in current model is torch.Size([1280]).\n\tsize mismatch for unet.decoders.10.1.linear_geglu_1.weight: copying a param with shape torch.Size([2560, 320]) from checkpoint, the shape in current model is torch.Size([1280, 320]).\n\tsize mismatch for unet.decoders.10.1.linear_geglu_1.bias: copying a param with shape torch.Size([2560]) from checkpoint, the shape in current model is torch.Size([1280]).\n\tsize mismatch for unet.decoders.11.1.linear_geglu_1.weight: copying a param with shape torch.Size([2560, 320]) from checkpoint, the shape in current model is torch.Size([1280, 320]).\n\tsize mismatch for unet.decoders.11.1.linear_geglu_1.bias: copying a param with shape torch.Size([2560]) from checkpoint, the shape in current model is torch.Size([1280])."
     ]
    }
   ],
   "source": [
    "import model_loader\n",
    "import pipeline\n",
    "from PIL import Image\n",
    "from transformers import CLIPTokenizer\n",
    "import torch\n",
    "\n",
    "DEVICE = 'cpu'\n",
    "\n",
    "ALLOW_CUDA = False\n",
    "ALLOW_MPS = True\n",
    "\n",
    "if torch.cuda.is_available() and ALLOW_CUDA:\n",
    "    DEVICE = 'cuda'\n",
    "elif (torch.has_mps or torch.backends.mps.is_available()) and ALLOW_MPS:\n",
    "    DEVICE = 'mps'\n",
    "print('Using device:', DEVICE)\n",
    "\n",
    "tokenizer = CLIPTokenizer(\"../data/tokenizer_vocab.json\", merges_file=\"../data/tokenizer_merges.txt\")\n",
    "model_file = \"../data/v1-5-pruned-emaonly.ckpt\"\n",
    "models = model_loader.preload_models_from_standard_weights(model_file, DEVICE)"
   ]
  },
  {
   "cell_type": "code",
   "execution_count": null,
   "metadata": {},
   "outputs": [],
   "source": [
    "prompt = \"A cat stretching on the floor, highly detailed, ultra sharp, cinematic, 8k resolution\"\n",
    "uncond_prompt = \"\"\n",
    "do_cfg = True\n",
    "cfg_scalt"
   ]
  }
 ],
 "metadata": {
  "kernelspec": {
   "display_name": "base",
   "language": "python",
   "name": "python3"
  },
  "language_info": {
   "codemirror_mode": {
    "name": "ipython",
    "version": 3
   },
   "file_extension": ".py",
   "mimetype": "text/x-python",
   "name": "python",
   "nbconvert_exporter": "python",
   "pygments_lexer": "ipython3",
   "version": "3.12.2"
  }
 },
 "nbformat": 4,
 "nbformat_minor": 2
}
